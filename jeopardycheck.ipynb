{
 "metadata": {
  "name": "",
  "signature": "sha256:16eb0184765d05188b668f2419381e0d3b450de82c384cc3ba29a9e144b109a3"
 },
 "nbformat": 3,
 "nbformat_minor": 0,
 "worksheets": [
  {
   "cells": [
    {
     "cell_type": "markdown",
     "metadata": {},
     "source": [
      "Querying the database\n",
      "---------------------\n",
      "\n",
      "The database is split into 5 tables:\n",
      "\n",
      "| Table name        | What it holds                                          |\n",
      "| ----------------- | ------------------------------------------------------ |\n",
      "| `airdates`        | Airdates for the shows, indexed by game number         |\n",
      "| `documents`       | Mappings from clue IDs to clue text and answers        |\n",
      "| `categories`      | The categories                                         |\n",
      "| `clues`           | Clue IDs with metadata (game number, round, and value) |\n",
      "| `classifications` | Mappings from clue IDs to category IDs                 |\n",
      "\n",
      "To get all the clues along with their metadata:\n",
      "\n",
      "```sql\n",
      "SELECT clues.id, game, round, value, clue, answer\n",
      "FROM clues\n",
      "JOIN documents ON clues.id = documents.id\n",
      "-- WHERE <expression>\n",
      ";\n",
      "```\n",
      "\n",
      "To get the category that a clue is in, given a clue id:\n",
      "\n",
      "```sql\n",
      "SELECT clue_id, category\n",
      "FROM classifications\n",
      "JOIN categories ON category_id = categories.id\n",
      "-- WHERE <expression>\n",
      ";\n",
      "```\n",
      "\n",
      "To get everything (although it is better to pick and choose what you're looking for):\n",
      "\n",
      "```sql\n",
      "SELECT clues.id, clues.game, airdate, round, value, category, clue, answer\n",
      "FROM clues\n",
      "JOIN airdates ON clues.game = airdates.game\n",
      "JOIN documents ON clues.id = documents.id\n",
      "JOIN classifications ON clues.id = classifications.clue_id\n",
      "JOIN categories ON classifications.category_id = categories.id\n",
      "-- WHERE <expression>\n",
      ";\n",
      "```"
     ]
    },
    {
     "cell_type": "markdown",
     "metadata": {},
     "source": [
      "##Importing the library, Connecting to the database\n",
      "\n",
      "Next, we need to connect to the database using the database library's connect method. With SQLite this is as simple as first making the connect and then getting a cursor which will let us execute SQL commands:\n",
      "\n",
      "http://alextechrants.blogspot.com/2013/11/10-common-stumbling-blocks-for.html  \n",
      "http://www.pythoncentral.io/introductory-tutorial-python-sqlalchemy/  \n",
      "http://mapfish.org/doc/tutorials/sqlalchemy.html  \n",
      "\n",
      "http://www.blog.pythonlibrary.org/2015/01/01/the-top-10-articles-of-2014/                                                        \n",
      "http://www.blog.pythonlibrary.org/2014/01/01/top-ten-articles-2013/  \n",
      "http://www.blog.pythonlibrary.org/2012/07/18/python-a-simple-step-by-step-sqlite-tutorial/  \n",
      "http://www.blog.pythonlibrary.org/2010/09/10/sqlalchemy-connecting-to-pre-existing-databases/  \n",
      "http://joshualande.com/data-science-sql\n",
      "\n",
      "\n"
     ]
    },
    {
     "cell_type": "code",
     "collapsed": false,
     "input": [
      "from IPython.display import IFrame\n",
      "IFrame('http://alextechrants.blogspot.com/2013/11/10-common-stumbling-blocks-for.html',800,250)"
     ],
     "language": "python",
     "metadata": {},
     "outputs": [
      {
       "html": [
        "\n",
        "        <iframe\n",
        "            width=\"800\"\n",
        "            height=250\"\n",
        "            src=\"http://alextechrants.blogspot.com/2013/11/10-common-stumbling-blocks-for.html\"\n",
        "            frameborder=\"0\"\n",
        "            allowfullscreen\n",
        "        ></iframe>\n",
        "        "
       ],
       "metadata": {},
       "output_type": "pyout",
       "prompt_number": 3,
       "text": [
        "<IPython.lib.display.IFrame at 0x31bc610>"
       ]
      }
     ],
     "prompt_number": 3
    },
    {
     "cell_type": "code",
     "collapsed": false,
     "input": [
      "from IPython.display import IFrame\n",
      "IFrame('https://www.sqlite.org/lang_select.html',800,250)\n",
      "#https://github.com/brandon-rhodes/pycon-sql-tutorial\n",
      "#https://sqlite.org/lang_aggfunc.html"
     ],
     "language": "python",
     "metadata": {},
     "outputs": [
      {
       "html": [
        "\n",
        "        <iframe\n",
        "            width=\"800\"\n",
        "            height=250\"\n",
        "            src=\"https://www.sqlite.org/lang_select.html\"\n",
        "            frameborder=\"0\"\n",
        "            allowfullscreen\n",
        "        ></iframe>\n",
        "        "
       ],
       "metadata": {},
       "output_type": "pyout",
       "prompt_number": 2,
       "text": [
        "<IPython.lib.display.IFrame at 0x31bca10>"
       ]
      }
     ],
     "prompt_number": 2
    },
    {
     "cell_type": "code",
     "collapsed": false,
     "input": [
      "import sqlite3 as dbapi\n",
      "con = dbapi.connect('clues.db')\n",
      "cur = con.cursor()\n",
      "cur.execute(\"select clue,answer  from documents where clue like 'opera';\")\n",
      "#cur.execute(\"select count(*)  from documents where clue like '%opera%';\")\n",
      "myqueryrecords = cur.fetchall()\n",
      "myqueryrecords \n",
      "#con.close()\n"
     ],
     "language": "python",
     "metadata": {},
     "outputs": [
      {
       "metadata": {},
       "output_type": "pyout",
       "prompt_number": 5,
       "text": [
        "[]"
       ]
      }
     ],
     "prompt_number": 5
    },
    {
     "cell_type": "code",
     "collapsed": false,
     "input": [
      "import sqlite3 as dbapi\n",
      "con = dbapi.connect('clues-test.db')\n",
      "cur = con.cursor()\n",
      "cur.execute(\"SELECT * FROM documents\")\n",
      "myqueryrecords = cur.fetchall()\n",
      "myqueryrecords "
     ],
     "language": "python",
     "metadata": {},
     "outputs": [
      {
       "metadata": {},
       "output_type": "pyout",
       "prompt_number": 1,
       "text": [
        "[]"
       ]
      }
     ],
     "prompt_number": 1
    },
    {
     "cell_type": "markdown",
     "metadata": {},
     "source": [
      "##List of Commands \n",
      "==================\n",
      "\n",
      ".schema...  \n",
      ".tables  \n",
      ".header on  \n",
      "\n",
      "SELECT clue FROM documents LIMIT 4;  \n",
      "SELECT id FROM documents WHERE = '2';  \n",
      "SELECT id FROM documents WHERE clue like '%opera%';  \n",
      "SELECT clue, answer FROM documents WHERE clue like '%opera%';  \n",
      "SELECT clue, answer FROM documents WHERE clue like '%opera%';"
     ]
    },
    {
     "cell_type": "code",
     "collapsed": false,
     "input": [],
     "language": "python",
     "metadata": {},
     "outputs": []
    }
   ],
   "metadata": {}
  }
 ]
}